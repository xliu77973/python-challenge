{
 "cells": [
  {
   "cell_type": "code",
   "execution_count": 23,
   "id": "e084bef3-efe8-4693-9650-eb04e63a13f1",
   "metadata": {},
   "outputs": [
    {
     "name": "stdout",
     "output_type": "stream",
     "text": [
      "\n",
      "Financial Analysis\n",
      "----------------------------------------------------\n",
      "Total Months: 86\n",
      "Total: $22564198\n",
      "Average Change: $-8311.11\n",
      "Greatest Increase in Profit: Aug-16 ($1862002)\n",
      "Greatest Decrease in Losses: Feb-14 ($-1825558)\n",
      "\n"
     ]
    }
   ],
   "source": [
    "# -*- coding: UTF-8 -*-\n",
    "\"\"\"PyBank Homework Starter File.\"\"\"\n",
    "\n",
    "# Dependencies\n",
    "import csv\n",
    "import os\n",
    "\n",
    "# Files to load and output (update with correct file paths)\n",
    "file_to_load = \"Resources/budget_data.csv\"  # Input file path\n",
    "file_to_output = \"analysis/budget_analysis.txt\"  # Output file path\n",
    "\n",
    "# Define variables to track the financial data\n",
    "total_months = 0\n",
    "prev_revenue = 0\n",
    "month_of_change = []\n",
    "revenue_change_list = []\n",
    "greatest_increase = [\"\", 0]\n",
    "greatest_decrease = [\"\", 9999999999999999999]\n",
    "total_revenue = 0\n",
    "\n",
    "# Open and read the csv\n",
    "with open(file_to_load) as financial_data:\n",
    "    reader = csv.DictReader(financial_data)\n",
    "    \n",
    "    # Process each row of data\n",
    "    for row in reader:\n",
    "\n",
    "        # Track the total\n",
    "        total_months += 1\n",
    "        total_revenue += int(row[\"Profit/Losses\"])\n",
    "        revenue_change = int(row[\"Profit/Losses\"]) - prev_revenue\n",
    "        prev_revenue = int(row[\"Profit/Losses\"])\n",
    "        month_of_change = month_of_change + [row[\"Date\"]]\n",
    "        \n",
    "        # Track the net change\n",
    "        if total_months !=1:\n",
    "            revenue_change_list = revenue_change_list + [revenue_change]\n",
    "                  \n",
    "        # Calculate the greatest increase in profits (month and amount)\n",
    "        if (revenue_change > greatest_increase[1]):\n",
    "            greatest_increase[0] = row[\"Date\"]\n",
    "            greatest_increase[1] = revenue_change\n",
    "\n",
    "        # Calculate the greatest decrease in losses (month and amount)\n",
    "        if (revenue_change < greatest_decrease[1]):\n",
    "            greatest_decrease[0] = row[\"Date\"]\n",
    "            greatest_decrease[1] = revenue_change\n",
    "\n",
    "# Calculate the average net change across the months\n",
    "revenue_avg = sum(revenue_change_list) / len(revenue_change_list)\n",
    "\n",
    "# Generate the output summary\n",
    "output = (\n",
    "    f\"\\nFinancial Analysis\\n\"\n",
    "    f\"----------------------------------------------------\\n\"\n",
    "    f\"Total Months: {total_months}\\n\"\n",
    "    f\"Total: ${total_revenue}\\n\"\n",
    "    f\"Average Change: ${revenue_avg:.2f}\\n\"\n",
    "    f\"Greatest Increase in Profit: {greatest_increase[0]} (${greatest_increase[1]})\\n\"\n",
    "    f\"Greatest Decrease in Losses: {greatest_decrease[0]} (${greatest_decrease[1]})\\n\"\n",
    ")\n",
    "\n",
    "# Print the output\n",
    "print(output)\n",
    "\n",
    "# Write the results to a text file\n",
    "with open(file_to_output, \"w\") as txt_file:\n",
    "    txt_file.write(output)\n",
    "\n"
   ]
  },
  {
   "cell_type": "code",
   "execution_count": null,
   "id": "0cc9da6d-d42b-42f2-9eeb-57e57584ca3c",
   "metadata": {},
   "outputs": [],
   "source": []
  },
  {
   "cell_type": "code",
   "execution_count": null,
   "id": "e566e434-26f2-49d9-8fed-33b536f5be60",
   "metadata": {},
   "outputs": [],
   "source": []
  }
 ],
 "metadata": {
  "kernelspec": {
   "display_name": "Python 3 (ipykernel)",
   "language": "python",
   "name": "python3"
  },
  "language_info": {
   "codemirror_mode": {
    "name": "ipython",
    "version": 3
   },
   "file_extension": ".py",
   "mimetype": "text/x-python",
   "name": "python",
   "nbconvert_exporter": "python",
   "pygments_lexer": "ipython3",
   "version": "3.12.4"
  }
 },
 "nbformat": 4,
 "nbformat_minor": 5
}
